{
 "cells": [
  {
   "cell_type": "code",
   "execution_count": null,
   "id": "e9236aea",
   "metadata": {},
   "outputs": [],
   "source": [
    "import numpy as np\n",
    "import pandas as pd\n",
    "from datasets import load_dataset, concatenate_datasets, Dataset, DatasetDict\n"
   ]
  },
  {
   "cell_type": "markdown",
   "id": "37a159d4",
   "metadata": {},
   "source": [
    "Import Datasets"
   ]
  },
  {
   "cell_type": "code",
   "execution_count": 42,
   "id": "684bf2d0",
   "metadata": {},
   "outputs": [],
   "source": [
    "ds1 = load_dataset(\"ccdv/govreport-summarization\")\n",
    "ds2 = load_dataset(\"FiscalNote/billsum\")\n",
    "\n",
    "# GovReport splits (report, summary)\n",
    "gov_train = ds1[\"train\"].rename_columns({\"report\": \"text\"})\n",
    "gov_val   = ds1[\"validation\"].rename_columns({\"report\": \"text\"})\n",
    "gov_test  = ds1[\"test\"].rename_columns({\"report\": \"text\"})\n",
    "\n",
    "# BillSum splits (text, summary, title)\n",
    "bill_train = ds2[\"train\"]\n",
    "bill_test  = ds2[\"test\"]\n",
    "bill_ca_test = ds2[\"ca_test\"]  # treat as out of domain test for model generalisation\n",
    "split = bill_test.train_test_split(test_size=0.5, seed=42)\n",
    "bill_val = split[\"train\"]\n",
    "bill_test = split[\"test\"]\n",
    "\n",
    "# Combined (text, summary, source)\n",
    "comb_train = concatenate_datasets([gov_train, bill_train.select_columns([\"text\", \"summary\"])])\n",
    "comb_val = concatenate_datasets([gov_val, bill_val.select_columns([\"text\", \"summary\"])])\n",
    "comb_test = concatenate_datasets([gov_test, bill_test.select_columns([\"text\", \"summary\"])])\n",
    "# add source column\n",
    "comb_train = comb_train.add_column(\"source\",[\"govreport\"] * len(gov_train) + [\"billsum\"] * len(bill_train))\n",
    "comb_val = comb_val.add_column(\"source\",[\"govreport\"] * len(gov_val) + [\"billsum\"] * len(bill_val))\n",
    "comb_test = comb_test.add_column(\"source\",[\"govreport\"] * len(gov_test) + [\"billsum\"] * len(bill_test))\n",
    "# shuffle to avoid bias\n",
    "comb_train = comb_train.shuffle(seed=42)\n",
    "comb_val = comb_val.shuffle(seed=42)\n",
    "comb_test = comb_test.shuffle(seed=42)\n"
   ]
  },
  {
   "cell_type": "markdown",
   "id": "b83f5ed8",
   "metadata": {},
   "source": [
    "Data Cleaning and Preprocessing"
   ]
  },
  {
   "cell_type": "code",
   "execution_count": null,
   "id": "03f7fd65",
   "metadata": {},
   "outputs": [],
   "source": []
  },
  {
   "cell_type": "markdown",
   "id": "25b9497f",
   "metadata": {},
   "source": [
    "Feature Engineering"
   ]
  },
  {
   "cell_type": "code",
   "execution_count": null,
   "id": "eeb00a54",
   "metadata": {},
   "outputs": [],
   "source": []
  },
  {
   "cell_type": "markdown",
   "id": "7995fd5b",
   "metadata": {},
   "source": [
    "Exploratory Data Analysis"
   ]
  },
  {
   "cell_type": "code",
   "execution_count": null,
   "id": "50332fcf",
   "metadata": {},
   "outputs": [],
   "source": []
  },
  {
   "cell_type": "markdown",
   "id": "84d8e7ba",
   "metadata": {},
   "source": [
    "Modeling"
   ]
  },
  {
   "cell_type": "code",
   "execution_count": null,
   "id": "59eba0da",
   "metadata": {},
   "outputs": [],
   "source": []
  }
 ],
 "metadata": {
  "kernelspec": {
   "display_name": "streamlitenv",
   "language": "python",
   "name": "python3"
  },
  "language_info": {
   "codemirror_mode": {
    "name": "ipython",
    "version": 3
   },
   "file_extension": ".py",
   "mimetype": "text/x-python",
   "name": "python",
   "nbconvert_exporter": "python",
   "pygments_lexer": "ipython3",
   "version": "3.12.4"
  }
 },
 "nbformat": 4,
 "nbformat_minor": 5
}
